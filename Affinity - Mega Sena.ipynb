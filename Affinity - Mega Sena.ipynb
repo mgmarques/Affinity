{
 "cells": [
  {
   "cell_type": "markdown",
   "metadata": {},
   "source": [
    "# Mega Sena - Sugestão via Moda e Cesta de Compras (affinity)"
   ]
  },
  {
   "cell_type": "markdown",
   "metadata": {},
   "source": [
    "Implementação de sugestão de jogo de mega sena com objetivo de treinamento em técnicas de affinity e Moda. \n",
    "Fote de dados obitida em: javascript:document.frm51s.submit()\n",
    "\n",
    "### Importando pacotes necessários e carregando os dados:"
   ]
  },
  {
   "cell_type": "code",
   "execution_count": 1,
   "metadata": {},
   "outputs": [],
   "source": [
    "import pandas as pd\n",
    "import numpy as np\n",
    "\n",
    "df = pd.read_excel('mega_sena.xlsx', skiprows=6)"
   ]
  },
  {
   "cell_type": "code",
   "execution_count": 2,
   "metadata": {},
   "outputs": [
    {
     "data": {
      "text/html": [
       "<div>\n",
       "<style>\n",
       "    .dataframe thead tr:only-child th {\n",
       "        text-align: right;\n",
       "    }\n",
       "\n",
       "    .dataframe thead th {\n",
       "        text-align: left;\n",
       "    }\n",
       "\n",
       "    .dataframe tbody tr th {\n",
       "        vertical-align: top;\n",
       "    }\n",
       "</style>\n",
       "<table border=\"1\" class=\"dataframe\">\n",
       "  <thead>\n",
       "    <tr style=\"text-align: right;\">\n",
       "      <th></th>\n",
       "      <th>Concurso</th>\n",
       "      <th>bola 1</th>\n",
       "      <th>bola 2</th>\n",
       "      <th>bola 3</th>\n",
       "      <th>bola 4</th>\n",
       "      <th>bola 5</th>\n",
       "      <th>bola 6</th>\n",
       "    </tr>\n",
       "  </thead>\n",
       "  <tbody>\n",
       "    <tr>\n",
       "      <th>count</th>\n",
       "      <td>2065.000000</td>\n",
       "      <td>2067.000000</td>\n",
       "      <td>2068.000000</td>\n",
       "      <td>2068.000000</td>\n",
       "      <td>2067.000000</td>\n",
       "      <td>2067.000000</td>\n",
       "      <td>2067.000000</td>\n",
       "    </tr>\n",
       "    <tr>\n",
       "      <th>mean</th>\n",
       "      <td>1033.000000</td>\n",
       "      <td>30.532430</td>\n",
       "      <td>29.991292</td>\n",
       "      <td>30.990809</td>\n",
       "      <td>30.815100</td>\n",
       "      <td>30.525166</td>\n",
       "      <td>30.124397</td>\n",
       "    </tr>\n",
       "    <tr>\n",
       "      <th>std</th>\n",
       "      <td>596.258473</td>\n",
       "      <td>17.323335</td>\n",
       "      <td>17.420742</td>\n",
       "      <td>17.410450</td>\n",
       "      <td>17.252543</td>\n",
       "      <td>17.228396</td>\n",
       "      <td>17.269475</td>\n",
       "    </tr>\n",
       "    <tr>\n",
       "      <th>min</th>\n",
       "      <td>1.000000</td>\n",
       "      <td>1.000000</td>\n",
       "      <td>1.000000</td>\n",
       "      <td>1.000000</td>\n",
       "      <td>1.000000</td>\n",
       "      <td>1.000000</td>\n",
       "      <td>1.000000</td>\n",
       "    </tr>\n",
       "    <tr>\n",
       "      <th>25%</th>\n",
       "      <td>517.000000</td>\n",
       "      <td>15.000000</td>\n",
       "      <td>15.000000</td>\n",
       "      <td>16.000000</td>\n",
       "      <td>16.000000</td>\n",
       "      <td>15.000000</td>\n",
       "      <td>15.000000</td>\n",
       "    </tr>\n",
       "    <tr>\n",
       "      <th>50%</th>\n",
       "      <td>1033.000000</td>\n",
       "      <td>31.000000</td>\n",
       "      <td>30.000000</td>\n",
       "      <td>31.000000</td>\n",
       "      <td>31.000000</td>\n",
       "      <td>31.000000</td>\n",
       "      <td>30.000000</td>\n",
       "    </tr>\n",
       "    <tr>\n",
       "      <th>75%</th>\n",
       "      <td>1549.000000</td>\n",
       "      <td>46.000000</td>\n",
       "      <td>45.000000</td>\n",
       "      <td>46.000000</td>\n",
       "      <td>45.000000</td>\n",
       "      <td>45.000000</td>\n",
       "      <td>45.000000</td>\n",
       "    </tr>\n",
       "    <tr>\n",
       "      <th>max</th>\n",
       "      <td>2065.000000</td>\n",
       "      <td>60.000000</td>\n",
       "      <td>60.000000</td>\n",
       "      <td>60.000000</td>\n",
       "      <td>60.000000</td>\n",
       "      <td>60.000000</td>\n",
       "      <td>60.000000</td>\n",
       "    </tr>\n",
       "  </tbody>\n",
       "</table>\n",
       "</div>"
      ],
      "text/plain": [
       "          Concurso       bola 1       bola 2       bola 3       bola 4  \\\n",
       "count  2065.000000  2067.000000  2068.000000  2068.000000  2067.000000   \n",
       "mean   1033.000000    30.532430    29.991292    30.990809    30.815100   \n",
       "std     596.258473    17.323335    17.420742    17.410450    17.252543   \n",
       "min       1.000000     1.000000     1.000000     1.000000     1.000000   \n",
       "25%     517.000000    15.000000    15.000000    16.000000    16.000000   \n",
       "50%    1033.000000    31.000000    30.000000    31.000000    31.000000   \n",
       "75%    1549.000000    46.000000    45.000000    46.000000    45.000000   \n",
       "max    2065.000000    60.000000    60.000000    60.000000    60.000000   \n",
       "\n",
       "            bola 5       bola 6  \n",
       "count  2067.000000  2067.000000  \n",
       "mean     30.525166    30.124397  \n",
       "std      17.228396    17.269475  \n",
       "min       1.000000     1.000000  \n",
       "25%      15.000000    15.000000  \n",
       "50%      31.000000    30.000000  \n",
       "75%      45.000000    45.000000  \n",
       "max      60.000000    60.000000  "
      ]
     },
     "execution_count": 2,
     "metadata": {},
     "output_type": "execute_result"
    }
   ],
   "source": [
    "df.describe()"
   ]
  },
  {
   "cell_type": "markdown",
   "metadata": {},
   "source": [
    "### Ajustando os dados para que cada bola de cada jogo represente um registro"
   ]
  },
  {
   "cell_type": "code",
   "execution_count": 3,
   "metadata": {
    "collapsed": true
   },
   "outputs": [],
   "source": [
    "for ball in np.arange(1, 7):\n",
    "    n = np.full((len(df), 1), ball)\n",
    "    loteryball = df[['Concurso', 'Data', ('bola ' + str(ball))]].join(pd.DataFrame(n))\n",
    "    loteryball.columns = ['Concurso', 'Data', 'Bola', 'Ord']\n",
    "    if ball == 1:\n",
    "        lotery = loteryball\n",
    "    else: lotery = lotery.append(loteryball, ignore_index=True)"
   ]
  },
  {
   "cell_type": "markdown",
   "metadata": {},
   "source": [
    "### Checando e removendo inconsistencias:"
   ]
  },
  {
   "cell_type": "code",
   "execution_count": 4,
   "metadata": {},
   "outputs": [
    {
     "data": {
      "text/plain": [
       "0"
      ]
     },
     "execution_count": 4,
     "metadata": {},
     "output_type": "execute_result"
    }
   ],
   "source": [
    "len(lotery[lotery.Bola < 0])"
   ]
  },
  {
   "cell_type": "code",
   "execution_count": 6,
   "metadata": {
    "collapsed": true
   },
   "outputs": [],
   "source": [
    "lotery = lotery[lotery.Bola > 0]"
   ]
  },
  {
   "cell_type": "markdown",
   "metadata": {},
   "source": [
    "### Identificando os números mais sortiados:\n",
    "\n",
    "Os números mais sortiados servem de sugestão para jogos com mais de 6 númeoros."
   ]
  },
  {
   "cell_type": "code",
   "execution_count": 4,
   "metadata": {},
   "outputs": [
    {
     "name": "stdout",
     "output_type": "stream",
     "text": [
      "First most comumn lotery numbers: [53.0]\n",
      "Second most comumn lotery numbers: [5.0, 10.0]\n",
      "Second most comumn lotery numbers: [23.0]\n"
     ]
    },
    {
     "name": "stderr",
     "output_type": "stream",
     "text": [
      "C:\\Users\\marce\\Anaconda3\\envs\\tfdeeplearning\\lib\\site-packages\\ipykernel_launcher.py:5: UserWarning: Boolean Series key will be reindexed to match DataFrame index.\n",
      "  \"\"\"\n"
     ]
    }
   ],
   "source": [
    "primeiro = list(lotery.Bola.mode())\n",
    "print(\"First most comumn lotery numbers: {0}\".format(primeiro))\n",
    "segundo = list(lotery[lotery.Bola != 53]['Bola'].mode())\n",
    "print(\"Second most comumn lotery numbers: {0}\".format(segundo))\n",
    "terceiro = lotery[lotery.Bola != 53][lotery.Bola != 5][lotery.Bola != 10]['Bola'].mode().tolist()\n",
    "print(\"Second most comumn lotery numbers: {0}\".format(terceiro))\n",
    "most = primeiro + segundo + terceiro"
   ]
  },
  {
   "cell_type": "markdown",
   "metadata": {},
   "source": [
    "## Início do algoritimo de identificação de números sorteados por Afinidade:"
   ]
  },
  {
   "cell_type": "code",
   "execution_count": 5,
   "metadata": {
    "collapsed": true
   },
   "outputs": [],
   "source": [
    "# Get list of unique items\n",
    "balls = np.arange(1, 61) # for purchase axemples: itemList=list(set(userItemData[\"ItemId\"].tolist()))\n",
    "\n",
    "#Get count of itens\n",
    "NumsCount = 60 # for purchase axemples: len(set(userItemData[\"ItemId\"].tolist()))"
   ]
  },
  {
   "cell_type": "markdown",
   "metadata": {},
   "source": [
    "### Identificação dos pares de sorteio de maior afinidade:"
   ]
  },
  {
   "cell_type": "code",
   "execution_count": 6,
   "metadata": {
    "collapsed": true
   },
   "outputs": [],
   "source": [
    "#Create an empty data frame to store ball affinity scores between two balss.\n",
    "ballAffinity= pd.DataFrame(columns=('ball1', 'ball2', 'score'))\n",
    "rowCount=0"
   ]
  },
  {
   "cell_type": "code",
   "execution_count": 7,
   "metadata": {
    "collapsed": true
   },
   "outputs": [],
   "source": [
    "# For each ball in the list, compare with other balls.\n",
    "for ind1 in range(len(balls)):\n",
    "    \n",
    "    #Get list of games who lottery this ball 1.\n",
    "    ball1 = lotery[lotery['Bola']==balls[ind1]][\"Concurso\"].tolist()\n",
    "    \n",
    "    #Get Ball 2 - balls that are not ball 1 or those that are not analyzed already.\n",
    "    for ind2 in range(ind1, len(balls)):\n",
    "        \n",
    "        if ( ind1 == ind2):\n",
    "            continue\n",
    "       \n",
    "        # Get list of games who lottery ball 2\n",
    "        ball2=lotery[lotery['Bola']==balls[ind2]][\"Concurso\"].tolist()\n",
    "        \n",
    "        # Find score. \n",
    "        commonBalls= len(set(ball1).intersection(set(ball2)))\n",
    "        score = commonBalls / NumsCount\n",
    "\n",
    "        # Add a score for balls 1 and 2\n",
    "        ballAffinity.loc[rowCount] = [balls[ind1],balls[ind2],score]\n",
    "        rowCount +=1\n",
    "        '''\n",
    "        # Not necessery for lotery case\n",
    "        # Add a score for 2 and 1. The same score would apply irrespective of the sequence.\n",
    "        ballAffinity.loc[rowCount] = [balls[ind2],balls[ind1],score]\n",
    "        rowCount +=1\n",
    "        '''"
   ]
  },
  {
   "cell_type": "code",
   "execution_count": 8,
   "metadata": {},
   "outputs": [
    {
     "data": {
      "text/html": [
       "<div>\n",
       "<style>\n",
       "    .dataframe thead tr:only-child th {\n",
       "        text-align: right;\n",
       "    }\n",
       "\n",
       "    .dataframe thead th {\n",
       "        text-align: left;\n",
       "    }\n",
       "\n",
       "    .dataframe tbody tr th {\n",
       "        vertical-align: top;\n",
       "    }\n",
       "</style>\n",
       "<table border=\"1\" class=\"dataframe\">\n",
       "  <thead>\n",
       "    <tr style=\"text-align: right;\">\n",
       "      <th></th>\n",
       "      <th>ball1</th>\n",
       "      <th>ball2</th>\n",
       "      <th>score</th>\n",
       "    </tr>\n",
       "  </thead>\n",
       "  <tbody>\n",
       "    <tr>\n",
       "      <th>257</th>\n",
       "      <td>5.0</td>\n",
       "      <td>33.0</td>\n",
       "      <td>0.533333</td>\n",
       "    </tr>\n",
       "    <tr>\n",
       "      <th>517</th>\n",
       "      <td>10.0</td>\n",
       "      <td>33.0</td>\n",
       "      <td>0.516667</td>\n",
       "    </tr>\n",
       "  </tbody>\n",
       "</table>\n",
       "</div>"
      ],
      "text/plain": [
       "     ball1  ball2     score\n",
       "257    5.0   33.0  0.533333\n",
       "517   10.0   33.0  0.516667"
      ]
     },
     "execution_count": 8,
     "metadata": {},
     "output_type": "execute_result"
    }
   ],
   "source": [
    "#Check final result\n",
    "paresMaisComuns = ballAffinity[ballAffinity.score > 0.50]\n",
    "paresMaisComuns.sort_values(by='score',ascending=False)"
   ]
  },
  {
   "cell_type": "code",
   "execution_count": 9,
   "metadata": {
    "collapsed": true
   },
   "outputs": [],
   "source": [
    "duplas = set((paresMaisComuns.ball1.unique().tolist()) + (paresMaisComuns.ball2.unique().tolist()))"
   ]
  },
  {
   "cell_type": "code",
   "execution_count": 10,
   "metadata": {},
   "outputs": [
    {
     "name": "stdout",
     "output_type": "stream",
     "text": [
      "Pares de loeterias mais comuns: [5.0, 10.0, 33.0]\n"
     ]
    }
   ],
   "source": [
    "print(\"Pares de loeterias mais comuns:\", sorted(duplas))"
   ]
  },
  {
   "cell_type": "markdown",
   "metadata": {},
   "source": [
    "Observe que os dois primeiros numeros corresponde a dois números com segunda maior modas (mais sorteados), embora eles não apresente um elevevado score como duplas entre si.\n",
    "\n",
    "### Identificação dos trios de sorteio de maior afinidade:\n",
    "Atensão: Este processo leva uns 3 minutos dependendo de sua máquina!"
   ]
  },
  {
   "cell_type": "code",
   "execution_count": 11,
   "metadata": {
    "collapsed": true
   },
   "outputs": [],
   "source": [
    "#Create an empty data frame to store ball affinity scores between 3 balss.\n",
    "ballAffinity= pd.DataFrame(columns=('ball1', 'ball2', 'ball3', 'score'))\n",
    "rowCount=0\n",
    "\n",
    "#For each ball in the list, compare with other balls.\n",
    "for ind1 in range(len(balls)):\n",
    "    \n",
    "    #Get list of games who lottery this ball 1.\n",
    "    ball1 = lotery[lotery['Bola']==balls[ind1]][\"Concurso\"].tolist()\n",
    "    \n",
    "    #Get Ball 2 - balls that are not ball 1 or those that are not analyzed already.\n",
    "    for ind2 in range(ind1, len(balls)):\n",
    "        \n",
    "        if ( ind1 == ind2):\n",
    "            continue\n",
    "       \n",
    "        #Get list of games who lottery ball 2\n",
    "        ball2=lotery[lotery['Bola']==balls[ind2]][\"Concurso\"].tolist()\n",
    "\n",
    "        #Get Ball 3 - balls that are not ball 1 and 2 or those that are not analyzed already.\n",
    "        for ind3 in range(ind2, len(balls)):\n",
    "        \n",
    "          if ( ind3 == ind2) or ( ind3 == ind1) :\n",
    "              continue\n",
    "       \n",
    "          #Get list of games who lottery ball 3\n",
    "          ball3=lotery[lotery['Bola']==balls[ind3]][\"Concurso\"].tolist()\n",
    "\n",
    "          #Find score. \n",
    "          commonBalls = len(set(ball1).intersection(set(ball2)).intersection(set(ball3)))\n",
    "          score= commonBalls / NumsCount\n",
    "\n",
    "          #Add a score for balls 1, 2 and 3\n",
    "          ballAffinity.loc[rowCount] = [balls[ind1],balls[ind2],balls[ind3],score]\n",
    "          rowCount +=1"
   ]
  },
  {
   "cell_type": "code",
   "execution_count": 12,
   "metadata": {},
   "outputs": [
    {
     "data": {
      "text/html": [
       "<div>\n",
       "<style>\n",
       "    .dataframe thead tr:only-child th {\n",
       "        text-align: right;\n",
       "    }\n",
       "\n",
       "    .dataframe thead th {\n",
       "        text-align: left;\n",
       "    }\n",
       "\n",
       "    .dataframe tbody tr th {\n",
       "        vertical-align: top;\n",
       "    }\n",
       "</style>\n",
       "<table border=\"1\" class=\"dataframe\">\n",
       "  <thead>\n",
       "    <tr style=\"text-align: right;\">\n",
       "      <th></th>\n",
       "      <th>ball1</th>\n",
       "      <th>ball2</th>\n",
       "      <th>ball3</th>\n",
       "      <th>score</th>\n",
       "    </tr>\n",
       "  </thead>\n",
       "  <tbody>\n",
       "    <tr>\n",
       "      <th>29483</th>\n",
       "      <td>29.0</td>\n",
       "      <td>38.0</td>\n",
       "      <td>50.0</td>\n",
       "      <td>0.133333</td>\n",
       "    </tr>\n",
       "    <tr>\n",
       "      <th>2472</th>\n",
       "      <td>2.0</td>\n",
       "      <td>18.0</td>\n",
       "      <td>30.0</td>\n",
       "      <td>0.116667</td>\n",
       "    </tr>\n",
       "    <tr>\n",
       "      <th>6063</th>\n",
       "      <td>4.0</td>\n",
       "      <td>30.0</td>\n",
       "      <td>59.0</td>\n",
       "      <td>0.116667</td>\n",
       "    </tr>\n",
       "    <tr>\n",
       "      <th>18664</th>\n",
       "      <td>14.0</td>\n",
       "      <td>33.0</td>\n",
       "      <td>36.0</td>\n",
       "      <td>0.116667</td>\n",
       "    </tr>\n",
       "    <tr>\n",
       "      <th>21976</th>\n",
       "      <td>18.0</td>\n",
       "      <td>21.0</td>\n",
       "      <td>38.0</td>\n",
       "      <td>0.116667</td>\n",
       "    </tr>\n",
       "    <tr>\n",
       "      <th>24637</th>\n",
       "      <td>21.0</td>\n",
       "      <td>30.0</td>\n",
       "      <td>52.0</td>\n",
       "      <td>0.116667</td>\n",
       "    </tr>\n",
       "    <tr>\n",
       "      <th>26466</th>\n",
       "      <td>24.0</td>\n",
       "      <td>25.0</td>\n",
       "      <td>42.0</td>\n",
       "      <td>0.116667</td>\n",
       "    </tr>\n",
       "    <tr>\n",
       "      <th>29324</th>\n",
       "      <td>29.0</td>\n",
       "      <td>32.0</td>\n",
       "      <td>38.0</td>\n",
       "      <td>0.116667</td>\n",
       "    </tr>\n",
       "    <tr>\n",
       "      <th>29591</th>\n",
       "      <td>29.0</td>\n",
       "      <td>44.0</td>\n",
       "      <td>47.0</td>\n",
       "      <td>0.116667</td>\n",
       "    </tr>\n",
       "  </tbody>\n",
       "</table>\n",
       "</div>"
      ],
      "text/plain": [
       "       ball1  ball2  ball3     score\n",
       "29483   29.0   38.0   50.0  0.133333\n",
       "2472     2.0   18.0   30.0  0.116667\n",
       "6063     4.0   30.0   59.0  0.116667\n",
       "18664   14.0   33.0   36.0  0.116667\n",
       "21976   18.0   21.0   38.0  0.116667\n",
       "24637   21.0   30.0   52.0  0.116667\n",
       "26466   24.0   25.0   42.0  0.116667\n",
       "29324   29.0   32.0   38.0  0.116667\n",
       "29591   29.0   44.0   47.0  0.116667"
      ]
     },
     "execution_count": 12,
     "metadata": {},
     "output_type": "execute_result"
    }
   ],
   "source": [
    "#Check final result\n",
    "triosMaisComuns = ballAffinity[ballAffinity.score > 0.11]\n",
    "triosMaisComuns.sort_values(by='score',ascending=False)"
   ]
  },
  {
   "cell_type": "code",
   "execution_count": 18,
   "metadata": {},
   "outputs": [
    {
     "name": "stdout",
     "output_type": "stream",
     "text": [
      "Trios de loterias mais comuns: [2.0, 4.0, 14.0, 18.0, 21.0, 24.0, 25.0, 29.0, 30.0, 32.0, 33.0, 36.0, 38.0, 42.0, 44.0, 47.0, 50.0, 52.0, 59.0]\n"
     ]
    }
   ],
   "source": [
    "trios = (set((triosMaisComuns.ball1.unique().tolist()) + \n",
    "            (triosMaisComuns.ball2.unique().tolist()) +\n",
    "            (triosMaisComuns.ball3.unique().tolist())))\n",
    "print(\"Trios de loterias mais comuns:\",sorted(trios))"
   ]
  },
  {
   "cell_type": "markdown",
   "metadata": {},
   "source": [
    "Como existe um grande número de trios com mais de 11% de <b>afinidade</b>, vamos considerar apenas os trios acima de <b>12%</b>."
   ]
  },
  {
   "cell_type": "code",
   "execution_count": 13,
   "metadata": {},
   "outputs": [
    {
     "name": "stdout",
     "output_type": "stream",
     "text": [
      "Trios de loterias mais comuns: [29.0, 38.0, 50.0]\n"
     ]
    }
   ],
   "source": [
    "#Check final result\n",
    "triosMaisComuns = ballAffinity[ballAffinity.score > 0.12]\n",
    "triosMaisComuns.sort_values(by='score',ascending=False)\n",
    "trios = (set((triosMaisComuns.ball1.unique().tolist()) + \n",
    "            (triosMaisComuns.ball2.unique().tolist()) +\n",
    "            (triosMaisComuns.ball3.unique().tolist())))\n",
    "print(\"Trios de loterias mais comuns:\",sorted(trios))"
   ]
  },
  {
   "cell_type": "markdown",
   "metadata": {},
   "source": [
    "## Jogo Sugerido:\n",
    "\n",
    "Com base nos números sorteados com maior afinade em pares e trios o jogo sugerido é:"
   ]
  },
  {
   "cell_type": "code",
   "execution_count": 14,
   "metadata": {},
   "outputs": [
    {
     "name": "stdout",
     "output_type": "stream",
     "text": [
      "Jogo sugerido:  [5.0, 10.0, 29.0, 33.0, 38.0, 50.0]\n"
     ]
    }
   ],
   "source": [
    "Jogo = duplas.union(trios)\n",
    "print(\"Jogo sugerido: \", sorted(Jogo))"
   ]
  },
  {
   "cell_type": "markdown",
   "metadata": {},
   "source": [
    "### Verificando se o jogo sugerido já foi sortiado alguma vez:"
   ]
  },
  {
   "cell_type": "code",
   "execution_count": 15,
   "metadata": {},
   "outputs": [
    {
     "name": "stdout",
     "output_type": "stream",
     "text": [
      "O jogo sugerido ainda não foi sorteado!\n"
     ]
    }
   ],
   "source": [
    "# Check if lottery game has been done\n",
    "gamedone = False\n",
    "for ball in np.arange(0, len(df)):\n",
    "    game = set([df['bola 1'][ball], df['bola 2'][ball], df['bola 3'][ball], \n",
    "                df['bola 4'][ball], df['bola 5'][ball], df['bola 6'][ball]])\n",
    "    if game == Jogo: \n",
    "        print(\"Já saiu no concurso\", df['Concurso'][ball], df['Data'][ball])\n",
    "        gamedone = True\n",
    "if not(gamedone): print(\"O jogo sugerido ainda não foi sorteado!\")"
   ]
  },
  {
   "cell_type": "markdown",
   "metadata": {},
   "source": [
    "## Sugetão de jogo com mais de 6 números:"
   ]
  },
  {
   "cell_type": "code",
   "execution_count": 16,
   "metadata": {},
   "outputs": [
    {
     "name": "stdout",
     "output_type": "stream",
     "text": [
      "Jogo com 8 números:  [5.0, 10.0, 23.0, 29.0, 33.0, 38.0, 50.0, 53.0]\n"
     ]
    }
   ],
   "source": [
    "MaiorJogo = sorted(Jogo.union(set(most)))\n",
    "print(\"Jogo com\", len(MaiorJogo), \"números: \", MaiorJogo)"
   ]
  },
  {
   "cell_type": "markdown",
   "metadata": {},
   "source": [
    "O números adicionais correspondem são [23 e 53], respectivos ao terceiro e primeiro números mais sorteados."
   ]
  }
 ],
 "metadata": {
  "kernelspec": {
   "display_name": "Python 3",
   "language": "python",
   "name": "python3"
  },
  "language_info": {
   "codemirror_mode": {
    "name": "ipython",
    "version": 3
   },
   "file_extension": ".py",
   "mimetype": "text/x-python",
   "name": "python",
   "nbconvert_exporter": "python",
   "pygments_lexer": "ipython3",
   "version": "3.5.4"
  }
 },
 "nbformat": 4,
 "nbformat_minor": 2
}
